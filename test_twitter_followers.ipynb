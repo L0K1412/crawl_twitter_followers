{
 "cells": [
  {
   "cell_type": "code",
   "execution_count": 1,
   "metadata": {},
   "outputs": [],
   "source": [
    "from selenium import webdriver\n",
    "from selenium.webdriver.common.by import By\n",
    "from selenium.webdriver.support.ui import WebDriverWait\n",
    "from selenium.webdriver.support import expected_conditions as EC\n",
    "import json"
   ]
  },
  {
   "cell_type": "code",
   "execution_count": null,
   "metadata": {},
   "outputs": [],
   "source": [
    "driver = webdriver.Chrome()\n",
    "url = f\"https://twitter.com/\"\n",
    "driver.get(url)"
   ]
  },
  {
   "cell_type": "code",
   "execution_count": null,
   "metadata": {},
   "outputs": [],
   "source": [
    "driver = webdriver.Chrome()\n",
    "list_id = ['spotonchain', 'lookonchain', 'OnchainDataNerd', 'elonmusk', 'EmperorBTC']\n",
    "for item in list_id:\n",
    "    get_followers_twitter_ID(driver, item)\n"
   ]
  },
  {
   "cell_type": "code",
   "execution_count": 2,
   "metadata": {},
   "outputs": [],
   "source": [
    "# Đọc file JSON\n",
    "with open('twitter_user_names.json', 'r') as json_file:\n",
    "    data = json.load(json_file)\n",
    "\n",
    "# Kiểm tra xem data có phải là danh sách (list) không\n",
    "if isinstance(data, list):\n",
    "    result_list = []\n",
    "    \n",
    "    # Lặp qua danh sách các phần tử trong data\n",
    "    for item in data:\n",
    "        # Kiểm tra xem item có kiểu dữ liệu là dictionary không\n",
    "        if isinstance(item, dict):\n",
    "            user_name = item.get(\"twitter_user_name\")\n",
    "            if user_name:\n",
    "                result_list.append(user_name.strip())      "
   ]
  },
  {
   "cell_type": "code",
   "execution_count": null,
   "metadata": {},
   "outputs": [],
   "source": [
    "def get_followers_twitter_ID(driver, twitter_id):\n",
    "    url = f\"https://twitter.com/{twitter_id}\"\n",
    "    driver.get(url)\n",
    "    \n",
    "    try:  \n",
    "        driver.implicitly_wait(10) # Chờ tối đa 10 giây cho các thao tác tiếp theo\n",
    "        followers_element = driver.find_element(By.XPATH, \"/html/body/div[1]/div/div/div[2]/main/div/div/div/div/div/div[3]/div/div/div/div/div[5]/div[2]/a/span[1]/span\")\n",
    "        followers_count = followers_element.text\n",
    "        processed_dict[twitter_id] = followers_count\n",
    "        account_info = {\n",
    "            \"twitter_user_name\": twitter_id,\n",
    "            \"followers\": followers_count\n",
    "        }\n",
    "        \n",
    "        # Ghi từ điển vào file JSON\n",
    "        with open('backup.json', 'a') as json_file:\n",
    "            json.dump(account_info, json_file)\n",
    "    except Exception:\n",
    "        processed_dict[twitter_id] = 0\n",
    "        # Tạo từ điển chứa thông tin tài khoản và số người theo dõi\n",
    "        account_info = {\n",
    "            \"twitter_user_name\": twitter_id,\n",
    "            \"followers\": 0\n",
    "        }\n",
    "        \n",
    "        # Ghi từ điển vào file JSON\n",
    "        with open('backup.json', 'a') as json_file:\n",
    "            json.dump(account_info, json_file)\n"
   ]
  },
  {
   "cell_type": "code",
   "execution_count": null,
   "metadata": {},
   "outputs": [],
   "source": [
    "# Tạo dictionary chứa giá trị xử lí từ hàm\n",
    "processed_dict = {}\n",
    "driver = webdriver.Chrome()\n",
    "count = 0 \n",
    "for item in result_list[27395:28000]:\n",
    "    if count == 90:\n",
    "        driver.quit()\n",
    "        driver = webdriver.Chrome()\n",
    "        count = 0\n",
    "    get_followers_twitter_ID(driver, item)\n",
    "    count = count + 1"
   ]
  },
  {
   "cell_type": "code",
   "execution_count": null,
   "metadata": {},
   "outputs": [],
   "source": [
    "for key, value in processed_dict.items():\n",
    "    print(f\"Account: {key}, Followers: {value}\")"
   ]
  },
  {
   "cell_type": "code",
   "execution_count": null,
   "metadata": {},
   "outputs": [],
   "source": [
    "output_data = []\n",
    "for twitter_id, followers_count in processed_dict.items():\n",
    "    entry = {\n",
    "        \"twitter_user_name\": twitter_id,\n",
    "        \"followers\": followers_count\n",
    "    }\n",
    "    output_data.append(entry)\n",
    "\n",
    "output_file = \"output_27395 - 28000.json\"\n",
    "with open(output_file, \"w\") as json_file:\n",
    "    json.dump(output_data, json_file, indent=4)"
   ]
  },
  {
   "cell_type": "code",
   "execution_count": 11,
   "metadata": {},
   "outputs": [
    {
     "name": "stdout",
     "output_type": "stream",
     "text": [
      "62833\n"
     ]
    }
   ],
   "source": [
    "print(len(result_list))"
   ]
  },
  {
   "cell_type": "code",
   "execution_count": 10,
   "metadata": {},
   "outputs": [
    {
     "name": "stdout",
     "output_type": "stream",
     "text": [
      "59813\n"
     ]
    }
   ],
   "source": [
    "for i in range(50000,60000):\n",
    "    if result_list[i] == 'widdance':\n",
    "        print(i)"
   ]
  },
  {
   "cell_type": "code",
   "execution_count": 9,
   "metadata": {},
   "outputs": [],
   "source": [
    "import json\n",
    "\n",
    "# Đọc dữ liệu từ file JSON a\n",
    "with open('backup1.json', 'r') as file:\n",
    "    data_a = file.read()\n",
    "\n",
    "# Tách dữ liệu thành từng đối tượng JSON riêng lẻ\n",
    "json_objects = data_a.strip().split('}')\n",
    "\n",
    "# Chuyển đổi dữ liệu và lưu vào file JSON b\n",
    "data_b = []\n",
    "for obj in json_objects:\n",
    "    if obj:\n",
    "        try:\n",
    "            parsed_obj = json.loads(obj + '}')\n",
    "            data_b.append(parsed_obj)\n",
    "        except json.JSONDecodeError:\n",
    "            print(f\"Error decoding JSON: {obj}\")\n",
    "\n",
    "# Ghi dữ liệu vào file JSON b\n",
    "with open('output_40000 - 44972.json', 'w') as file:\n",
    "    file.write('[\\n')\n",
    "    for i, obj in enumerate(data_b):\n",
    "        json.dump(obj, file, indent=4)\n",
    "        if i < len(data_b) - 1:\n",
    "            file.write(',')\n",
    "        file.write('\\n')\n",
    "    file.write(']')\n"
   ]
  },
  {
   "cell_type": "code",
   "execution_count": null,
   "metadata": {},
   "outputs": [],
   "source": [
    "import re\n",
    "import json\n",
    "\n",
    "input_text = \"\"\"\n",
    "\"\"\"\n",
    "\n",
    "# Tách thông tin từ đoạn văn bản\n",
    "accounts = re.findall(r'Account: (.*?)[.\\s]+Followers: ([\\d.]+[K]*)', input_text)\n",
    "\n",
    "# Chuyển thông tin thành định dạng JSON\n",
    "output_data = []\n",
    "for account, followers in accounts:\n",
    "    if followers[-1] == 'K':\n",
    "        followers = float(followers[:-1]) * 1000  # Chuyển đổi K thành nghìn\n",
    "    else:\n",
    "        followers = int(followers)\n",
    "    \n",
    "    output_data.append({\n",
    "        \"twitter_user_name\": account,\n",
    "        \"followers\": followers\n",
    "    })\n",
    "\n",
    "# Ghi vào tệp JSON\n",
    "with open('output_23571 - 24479.json', 'w') as json_file:\n",
    "    json.dump(output_data, json_file, indent=4)\n",
    "\n",
    "print(\"Đã tạo tệp output.json thành công.\")"
   ]
  }
 ],
 "metadata": {
  "kernelspec": {
   "display_name": "Python 3",
   "language": "python",
   "name": "python3"
  },
  "language_info": {
   "codemirror_mode": {
    "name": "ipython",
    "version": 3
   },
   "file_extension": ".py",
   "mimetype": "text/x-python",
   "name": "python",
   "nbconvert_exporter": "python",
   "pygments_lexer": "ipython3",
   "version": "3.10.11"
  },
  "orig_nbformat": 4
 },
 "nbformat": 4,
 "nbformat_minor": 2
}
